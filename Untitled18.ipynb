{
  "nbformat": 4,
  "nbformat_minor": 0,
  "metadata": {
    "colab": {
      "name": "Untitled18.ipynb",
      "provenance": [],
      "authorship_tag": "ABX9TyM23txEf9neKNuOEYvpHKAW",
      "include_colab_link": true
    },
    "kernelspec": {
      "name": "python3",
      "display_name": "Python 3"
    },
    "language_info": {
      "name": "python"
    }
  },
  "cells": [
    {
      "cell_type": "markdown",
      "metadata": {
        "id": "view-in-github",
        "colab_type": "text"
      },
      "source": [
        "<a href=\"https://colab.research.google.com/github/Rishiverma1993/Turn-Photos-into-Cartoons-Using-Python/blob/main/Untitled18.ipynb\" target=\"_parent\"><img src=\"https://colab.research.google.com/assets/colab-badge.svg\" alt=\"Open In Colab\"/></a>"
      ]
    },
    {
      "cell_type": "code",
      "execution_count": 11,
      "metadata": {
        "colab": {
          "base_uri": "https://localhost:8080/"
        },
        "id": "xbJwsAMtg16s",
        "outputId": "7e6717b1-0038-4130-f0f3-c639c948673e"
      },
      "outputs": [
        {
          "output_type": "execute_result",
          "data": {
            "text/plain": [
              "True"
            ]
          },
          "metadata": {},
          "execution_count": 11
        }
      ],
      "source": [
        "import cv2\n",
        "import numpy as np\n",
        "\n",
        "def read_img(filename):\n",
        "    img = cv2.imread(filename)\n",
        "    return img\n",
        "\n",
        "def edge_mask(img , line_wdt, blur):\n",
        "    gray = cv2.cvtColor(img,cv2.COLOR_BGR2GRAY)\n",
        "    gray_blur = cv2.medianBlur(gray,blur)\n",
        "    edges  = cv2.adaptiveThreshold(gray_blur , 255, cv2.ADAPTIVE_THRESH_MEAN_C , cv2.THRESH_BINARY , line_wdt, blur)\n",
        "    return edges  \n",
        "\n",
        "def color_Quantization(img, k):\n",
        "    data = np.float32(img).reshape((-1,3))\n",
        "    criteria = (cv2.TERM_CRITERIA_EPS + cv2.TERM_CRITERIA_MAX_ITER, 20, 0.001)\n",
        "    ret , label , center = cv2.kmeans(data,k,None,criteria,10,cv2.KMEANS_RANDOM_CENTERS)\n",
        "    center = np.uint8(center)\n",
        "    result = center[label.flatten()]\n",
        "    result = result.reshape(img.shape)\n",
        "    return result   \n",
        "\n",
        "img = read_img('/content/C__Data_Users_DefApps_AppData_INTERNETEXPLORER_Temp_Saved Images_ekajnabee3_10x7-650x425.jpg')\n",
        "line_wdt = 9\n",
        "blur_value = 7\n",
        "totalcolor = 5\n",
        "\n",
        "edge_img = edge_mask(img , line_wdt,blur_value)\n",
        "img = color_Quantization(img,totalcolor)\n",
        "blured = cv2.bilateralFilter(img , d = 9 ,sigmaColor=200 , sigmaSpace=200)\n",
        "cartoonImage = cv2.bitwise_and(blured, blured, mask=edge_img)\n",
        "\n",
        "cv2.imwrite(\"fsesxxk.jpg\",cartoonImage)       "
      ]
    },
    {
      "cell_type": "code",
      "source": [
        ""
      ],
      "metadata": {
        "id": "SAlJqiBOg7Wb"
      },
      "execution_count": 8,
      "outputs": []
    },
    {
      "cell_type": "code",
      "source": [
        " "
      ],
      "metadata": {
        "id": "MK4u1ZjXh3wE"
      },
      "execution_count": 3,
      "outputs": []
    },
    {
      "cell_type": "code",
      "source": [
        ""
      ],
      "metadata": {
        "id": "fssPrDGoh3y8"
      },
      "execution_count": 4,
      "outputs": []
    },
    {
      "cell_type": "code",
      "source": [
        ""
      ],
      "metadata": {
        "colab": {
          "base_uri": "https://localhost:8080/"
        },
        "id": "S0ryw_hog7ag",
        "outputId": "e53d4016-d953-4cf1-a1ae-808370baf9a0"
      },
      "execution_count": 6,
      "outputs": [
        {
          "output_type": "execute_result",
          "data": {
            "text/plain": [
              "True"
            ]
          },
          "metadata": {},
          "execution_count": 6
        }
      ]
    },
    {
      "cell_type": "code",
      "source": [
        ""
      ],
      "metadata": {
        "id": "W-GydUSxg7df"
      },
      "execution_count": null,
      "outputs": []
    },
    {
      "cell_type": "code",
      "source": [
        ""
      ],
      "metadata": {
        "id": "omPtMd_qg7gg"
      },
      "execution_count": null,
      "outputs": []
    },
    {
      "cell_type": "code",
      "source": [
        ""
      ],
      "metadata": {
        "id": "8OuZMeRrg7jf"
      },
      "execution_count": null,
      "outputs": []
    }
  ]
}